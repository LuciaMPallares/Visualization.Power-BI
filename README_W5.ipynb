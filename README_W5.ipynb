{
 "cells": [
  {
   "cell_type": "markdown",
   "id": "9a927606",
   "metadata": {},
   "source": [
    "![Ironhack logo](https://i.imgur.com/1QgrNNw.png) \n",
    "\n",
    "\n",
    "# Project: Visualization.Power BI\n",
    "\n",
    "\n",
    "\n",
    "## About the project\n",
    "\n",
    "The goal of this project is to put into practice what we have learned this week about visualization. For this we have worked with the tables generated in the W3 Database Project on the databases of a videclub. We extracted this information from it using `sql querys` and now we are building a visualization answering some questions\n",
    "\n",
    "- Which employee generates the most revenue?.\n",
    "- What percentage of units do they have for each genre?.\n",
    "- Movie titles they offer of each genre and their duration.\n",
    "\n",
    "\n",
    "\n",
    "## Techniques used\n",
    "\n",
    "-Data cleaning with Phyton (Pandas).\n",
    "-SQL.\n",
    "-Visualization with Power BI.\n",
    "\n",
    "\n",
    "## Submission:\n",
    "\n",
    "- `Proyecto5_powerBI.pbix`\n",
    "- `Proyecto5_powerBI.pdf`\n",
    "- `functions.py`\n",
    "- `Queries proyecto semana 3.txt`\n",
    "-  BBDD videoclub\n",
    "\n",
    "## Useful Resources\n",
    "- <https://numpy.org/doc/1.18/>\n",
    "- <https://pandas.pydata.org/>\n",
    "- https://docs.python.org/3/library/functions.html\n",
    "- https://pandas.pydata.org/docs/\n",
    "- https://dbeaver.io/\n",
    "- https://powerbi.microsoft.com/es-es/landing/free-account/?&ef_id=Cj0KCQiA99ybBhD9ARIsALvZavUQ10kyt1WDyXUyoXxzCNNPInYj7OMsv9EUICgzGgqQ3LqOm3v1b-waAskBEALw_wcB:G:s&OCID=AIDcmm2x16xx83_SEM_Cj0KCQiA99ybBhD9ARIsALvZavUQ10kyt1WDyXUyoXxzCNNPInYj7OMsv9EUICgzGgqQ3LqOm3v1b-waAskBEALw_wcB:G:s&gclid=Cj0KCQiA99ybBhD9ARIsALvZavUQ10kyt1WDyXUyoXxzCNNPInYj7OMsv9EUICgzGgqQ3LqOm3v1b-waAskBEALw_wcB\n"
   ]
  }
 ],
 "metadata": {
  "kernelspec": {
   "display_name": "Python 3 (ipykernel)",
   "language": "python",
   "name": "python3"
  },
  "language_info": {
   "codemirror_mode": {
    "name": "ipython",
    "version": 3
   },
   "file_extension": ".py",
   "mimetype": "text/x-python",
   "name": "python",
   "nbconvert_exporter": "python",
   "pygments_lexer": "ipython3",
   "version": "3.9.12"
  }
 },
 "nbformat": 4,
 "nbformat_minor": 5
}
